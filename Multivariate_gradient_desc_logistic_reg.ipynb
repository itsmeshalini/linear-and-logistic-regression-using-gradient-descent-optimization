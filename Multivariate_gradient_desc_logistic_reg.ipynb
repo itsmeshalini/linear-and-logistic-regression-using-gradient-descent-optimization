{
 "cells": [
  {
   "cell_type": "code",
   "execution_count": 293,
   "metadata": {},
   "outputs": [],
   "source": [
    "import pandas as pd\n",
    "import numpy as np\n",
    "from sklearn.model_selection import train_test_split\n",
    "from random import seed\n",
    "from random import random\n",
    "import matplotlib.pyplot as plt\n",
    "import seaborn as sns\n",
    "import math\n",
    "%matplotlib inline"
   ]
  },
  {
   "cell_type": "code",
   "execution_count": 294,
   "metadata": {},
   "outputs": [],
   "source": [
    "df1 = pd.read_csv('sgemm_product.csv')"
   ]
  },
  {
   "cell_type": "code",
   "execution_count": 295,
   "metadata": {},
   "outputs": [
    {
     "data": {
      "text/html": [
       "<div>\n",
       "<style scoped>\n",
       "    .dataframe tbody tr th:only-of-type {\n",
       "        vertical-align: middle;\n",
       "    }\n",
       "\n",
       "    .dataframe tbody tr th {\n",
       "        vertical-align: top;\n",
       "    }\n",
       "\n",
       "    .dataframe thead th {\n",
       "        text-align: right;\n",
       "    }\n",
       "</style>\n",
       "<table border=\"1\" class=\"dataframe\">\n",
       "  <thead>\n",
       "    <tr style=\"text-align: right;\">\n",
       "      <th></th>\n",
       "      <th>MWG</th>\n",
       "      <th>NWG</th>\n",
       "      <th>KWG</th>\n",
       "      <th>MDIMC</th>\n",
       "      <th>NDIMC</th>\n",
       "      <th>MDIMA</th>\n",
       "      <th>NDIMB</th>\n",
       "      <th>KWI</th>\n",
       "      <th>VWM</th>\n",
       "      <th>VWN</th>\n",
       "      <th>STRM</th>\n",
       "      <th>STRN</th>\n",
       "      <th>SA</th>\n",
       "      <th>SB</th>\n",
       "      <th>y</th>\n",
       "    </tr>\n",
       "  </thead>\n",
       "  <tbody>\n",
       "    <tr>\n",
       "      <th>count</th>\n",
       "      <td>241600.000000</td>\n",
       "      <td>241600.000000</td>\n",
       "      <td>241600.000000</td>\n",
       "      <td>241600.000000</td>\n",
       "      <td>241600.000000</td>\n",
       "      <td>241600.000000</td>\n",
       "      <td>241600.000000</td>\n",
       "      <td>241600.000000</td>\n",
       "      <td>241600.000000</td>\n",
       "      <td>241600.000000</td>\n",
       "      <td>241600.000000</td>\n",
       "      <td>241600.000000</td>\n",
       "      <td>241600.000000</td>\n",
       "      <td>241600.000000</td>\n",
       "      <td>241600.000000</td>\n",
       "    </tr>\n",
       "    <tr>\n",
       "      <th>mean</th>\n",
       "      <td>80.415364</td>\n",
       "      <td>80.415364</td>\n",
       "      <td>25.513113</td>\n",
       "      <td>13.935894</td>\n",
       "      <td>13.935894</td>\n",
       "      <td>17.371126</td>\n",
       "      <td>17.371126</td>\n",
       "      <td>5.000000</td>\n",
       "      <td>2.448609</td>\n",
       "      <td>2.448609</td>\n",
       "      <td>0.500000</td>\n",
       "      <td>0.500000</td>\n",
       "      <td>0.500000</td>\n",
       "      <td>0.500000</td>\n",
       "      <td>217.571953</td>\n",
       "    </tr>\n",
       "    <tr>\n",
       "      <th>std</th>\n",
       "      <td>42.469220</td>\n",
       "      <td>42.469220</td>\n",
       "      <td>7.855619</td>\n",
       "      <td>7.873662</td>\n",
       "      <td>7.873662</td>\n",
       "      <td>9.389418</td>\n",
       "      <td>9.389418</td>\n",
       "      <td>3.000006</td>\n",
       "      <td>1.953759</td>\n",
       "      <td>1.953759</td>\n",
       "      <td>0.500001</td>\n",
       "      <td>0.500001</td>\n",
       "      <td>0.500001</td>\n",
       "      <td>0.500001</td>\n",
       "      <td>368.750161</td>\n",
       "    </tr>\n",
       "    <tr>\n",
       "      <th>min</th>\n",
       "      <td>16.000000</td>\n",
       "      <td>16.000000</td>\n",
       "      <td>16.000000</td>\n",
       "      <td>8.000000</td>\n",
       "      <td>8.000000</td>\n",
       "      <td>8.000000</td>\n",
       "      <td>8.000000</td>\n",
       "      <td>2.000000</td>\n",
       "      <td>1.000000</td>\n",
       "      <td>1.000000</td>\n",
       "      <td>0.000000</td>\n",
       "      <td>0.000000</td>\n",
       "      <td>0.000000</td>\n",
       "      <td>0.000000</td>\n",
       "      <td>13.317500</td>\n",
       "    </tr>\n",
       "    <tr>\n",
       "      <th>25%</th>\n",
       "      <td>32.000000</td>\n",
       "      <td>32.000000</td>\n",
       "      <td>16.000000</td>\n",
       "      <td>8.000000</td>\n",
       "      <td>8.000000</td>\n",
       "      <td>8.000000</td>\n",
       "      <td>8.000000</td>\n",
       "      <td>2.000000</td>\n",
       "      <td>1.000000</td>\n",
       "      <td>1.000000</td>\n",
       "      <td>0.000000</td>\n",
       "      <td>0.000000</td>\n",
       "      <td>0.000000</td>\n",
       "      <td>0.000000</td>\n",
       "      <td>40.667500</td>\n",
       "    </tr>\n",
       "    <tr>\n",
       "      <th>50%</th>\n",
       "      <td>64.000000</td>\n",
       "      <td>64.000000</td>\n",
       "      <td>32.000000</td>\n",
       "      <td>8.000000</td>\n",
       "      <td>8.000000</td>\n",
       "      <td>16.000000</td>\n",
       "      <td>16.000000</td>\n",
       "      <td>5.000000</td>\n",
       "      <td>2.000000</td>\n",
       "      <td>2.000000</td>\n",
       "      <td>0.500000</td>\n",
       "      <td>0.500000</td>\n",
       "      <td>0.500000</td>\n",
       "      <td>0.500000</td>\n",
       "      <td>69.790000</td>\n",
       "    </tr>\n",
       "    <tr>\n",
       "      <th>75%</th>\n",
       "      <td>128.000000</td>\n",
       "      <td>128.000000</td>\n",
       "      <td>32.000000</td>\n",
       "      <td>16.000000</td>\n",
       "      <td>16.000000</td>\n",
       "      <td>32.000000</td>\n",
       "      <td>32.000000</td>\n",
       "      <td>8.000000</td>\n",
       "      <td>4.000000</td>\n",
       "      <td>4.000000</td>\n",
       "      <td>1.000000</td>\n",
       "      <td>1.000000</td>\n",
       "      <td>1.000000</td>\n",
       "      <td>1.000000</td>\n",
       "      <td>228.387500</td>\n",
       "    </tr>\n",
       "    <tr>\n",
       "      <th>max</th>\n",
       "      <td>128.000000</td>\n",
       "      <td>128.000000</td>\n",
       "      <td>32.000000</td>\n",
       "      <td>32.000000</td>\n",
       "      <td>32.000000</td>\n",
       "      <td>32.000000</td>\n",
       "      <td>32.000000</td>\n",
       "      <td>8.000000</td>\n",
       "      <td>8.000000</td>\n",
       "      <td>8.000000</td>\n",
       "      <td>1.000000</td>\n",
       "      <td>1.000000</td>\n",
       "      <td>1.000000</td>\n",
       "      <td>1.000000</td>\n",
       "      <td>3341.507500</td>\n",
       "    </tr>\n",
       "  </tbody>\n",
       "</table>\n",
       "</div>"
      ],
      "text/plain": [
       "                 MWG            NWG            KWG          MDIMC  \\\n",
       "count  241600.000000  241600.000000  241600.000000  241600.000000   \n",
       "mean       80.415364      80.415364      25.513113      13.935894   \n",
       "std        42.469220      42.469220       7.855619       7.873662   \n",
       "min        16.000000      16.000000      16.000000       8.000000   \n",
       "25%        32.000000      32.000000      16.000000       8.000000   \n",
       "50%        64.000000      64.000000      32.000000       8.000000   \n",
       "75%       128.000000     128.000000      32.000000      16.000000   \n",
       "max       128.000000     128.000000      32.000000      32.000000   \n",
       "\n",
       "               NDIMC          MDIMA          NDIMB            KWI  \\\n",
       "count  241600.000000  241600.000000  241600.000000  241600.000000   \n",
       "mean       13.935894      17.371126      17.371126       5.000000   \n",
       "std         7.873662       9.389418       9.389418       3.000006   \n",
       "min         8.000000       8.000000       8.000000       2.000000   \n",
       "25%         8.000000       8.000000       8.000000       2.000000   \n",
       "50%         8.000000      16.000000      16.000000       5.000000   \n",
       "75%        16.000000      32.000000      32.000000       8.000000   \n",
       "max        32.000000      32.000000      32.000000       8.000000   \n",
       "\n",
       "                 VWM            VWN           STRM           STRN  \\\n",
       "count  241600.000000  241600.000000  241600.000000  241600.000000   \n",
       "mean        2.448609       2.448609       0.500000       0.500000   \n",
       "std         1.953759       1.953759       0.500001       0.500001   \n",
       "min         1.000000       1.000000       0.000000       0.000000   \n",
       "25%         1.000000       1.000000       0.000000       0.000000   \n",
       "50%         2.000000       2.000000       0.500000       0.500000   \n",
       "75%         4.000000       4.000000       1.000000       1.000000   \n",
       "max         8.000000       8.000000       1.000000       1.000000   \n",
       "\n",
       "                  SA             SB              y  \n",
       "count  241600.000000  241600.000000  241600.000000  \n",
       "mean        0.500000       0.500000     217.571953  \n",
       "std         0.500001       0.500001     368.750161  \n",
       "min         0.000000       0.000000      13.317500  \n",
       "25%         0.000000       0.000000      40.667500  \n",
       "50%         0.500000       0.500000      69.790000  \n",
       "75%         1.000000       1.000000     228.387500  \n",
       "max         1.000000       1.000000    3341.507500  "
      ]
     },
     "execution_count": 295,
     "metadata": {},
     "output_type": "execute_result"
    }
   ],
   "source": [
    "#Averaging the 4 run in last 4 column\n",
    "df1['y']= (df1['Run1 (ms)']+df1['Run2 (ms)']+df1['Run3 (ms)']+df1['Run4 (ms)'])/4\n",
    "df1.drop(['Run1 (ms)','Run2 (ms)','Run3 (ms)','Run4 (ms)'], axis = 1,inplace = True)\n",
    "#df1 = df1.sample(frac = .4, random_state = 2)\n",
    "df1.describe()"
   ]
  },
  {
   "cell_type": "code",
   "execution_count": 296,
   "metadata": {},
   "outputs": [],
   "source": [
    "#min- max scaling\n",
    "df = df1.copy(deep = True)\n",
    "for col in df1.columns[0:14]:\n",
    "    df[col] = ((df1[col]-df1[col].mean())/df1[col].max()-df1[col].min())"
   ]
  },
  {
   "cell_type": "code",
   "execution_count": 297,
   "metadata": {},
   "outputs": [
    {
     "data": {
      "text/plain": [
       "217.571953093958"
      ]
     },
     "execution_count": 297,
     "metadata": {},
     "output_type": "execute_result"
    }
   ],
   "source": [
    "df['y'].mean()"
   ]
  },
  {
   "cell_type": "code",
   "execution_count": 298,
   "metadata": {},
   "outputs": [],
   "source": [
    "\n",
    "for i in range(len(df['y'])):\n",
    "    if(df['y'].values[i] <= 217):\n",
    "        df['y'].values[i] = 0\n",
    "    else:\n",
    "        df['y'].values[i] = 1"
   ]
  },
  {
   "cell_type": "code",
   "execution_count": 299,
   "metadata": {},
   "outputs": [],
   "source": [
    "train, test = train_test_split(df,train_size=0.7, test_size=0.3, random_state=0)"
   ]
  },
  {
   "cell_type": "code",
   "execution_count": 300,
   "metadata": {},
   "outputs": [],
   "source": [
    "X_train = train.iloc[:,:-1]\n",
    "y_train = train.iloc[:,-1]\n",
    "X_test = test.iloc[:,:-1]\n",
    "y_test = test.iloc[:,-1] "
   ]
  },
  {
   "cell_type": "code",
   "execution_count": 301,
   "metadata": {},
   "outputs": [],
   "source": [
    "def logistic_func(X,beta):\n",
    "    y_hat = 1/(1+ np.exp(-np.dot(X,beta.T)))\n",
    "    return y_hat\n",
    "    "
   ]
  },
  {
   "cell_type": "code",
   "execution_count": 302,
   "metadata": {},
   "outputs": [],
   "source": [
    "def cost_func(y,y_hat,m):\n",
    "    cost = -1/m*(sum(y*np.log(y_hat) + (1-y)*np.log(1-y_hat)))\n",
    "    return(cost)"
   ]
  },
  {
   "cell_type": "code",
   "execution_count": 303,
   "metadata": {},
   "outputs": [],
   "source": [
    "def gradient_descent(X,y,y_hat,beta,alpha,thresh,max_iter,cut_off):\n",
    "    num_iter= 1\n",
    "    m = X.shape[0]\n",
    "    cost_list=[]\n",
    "    rmse_list=[]\n",
    "    for i in range(max_iter):\n",
    "        cost = cost_func(y,y_hat,m)\n",
    "        y_hat = logistic_func(X,beta)\n",
    "        for j in range(X.shape[1]):\n",
    "            beta[j] = beta[j]-(alpha*(1/m*sum((y_hat-y)*X.transpose()[j])))\n",
    "        #change_cost = old_cost-cost\n",
    "        if len(cost_list)>1:\n",
    "            if (cost< cost_list[-1] ): # if cost increases, we have gone past minimum. SO cut off\n",
    "                if (cost_list[-1] - cost < thresh):\n",
    "                    break\n",
    "            else:    \n",
    "                break\n",
    "        cost_list.append(cost)\n",
    "        rmse_list.append(rmse)\n",
    "        num_iter += 1\n",
    "    for i in range(0,len(y_hat)):     # convert predicted probabilities to 0 or 1 based on cut off\n",
    "        if y_hat[i]>cut_off:\n",
    "            y_hat[i] = 1\n",
    "        else:\n",
    "            y_hat[i] = 0\n",
    "    correct = np.sum(y == y_hat)\n",
    "    acc = ((correct/len(y))*100)\n",
    "    return(cost_list,beta,num_iter,acc)\n",
    "            \n",
    "        \n",
    "    \n",
    "    "
   ]
  },
  {
   "cell_type": "code",
   "execution_count": 304,
   "metadata": {},
   "outputs": [],
   "source": [
    "def log_gradient(X,y,alpha,cut_off):\n",
    "    max_iter = 100\n",
    "    thresh =  0.000001\n",
    "    cut_off = cut_off\n",
    "    #calculate no of feature\n",
    "    n = X.shape[1]\n",
    "    #initialize the parameter vector beta\n",
    "    beta = np.zeros(n+1)\n",
    "    #concatenate 1 in X\n",
    "    X_one = np.ones((X.shape[0],1))\n",
    "    X = np.concatenate((X_one,X),axis = 1)\n",
    "    #call y_pred function to get y hat\n",
    "    y_hat = logistic_func(X,beta)\n",
    "    #call batch gradient descent \n",
    "    cost,beta_train_final,it,acc = gradient_descent(X,y,y_hat,beta,alpha,thresh,max_iter,cut_off)\n",
    "    return(cost,beta,it,acc)"
   ]
  },
  {
   "cell_type": "code",
   "execution_count": 305,
   "metadata": {},
   "outputs": [
    {
     "name": "stdout",
     "output_type": "stream",
     "text": [
      "[0.6931471805585493, 0.6931471805585493, 0.6421376888986517, 0.6138477196613371, 0.5978773321088456, 0.5886670068348784, 0.5832477162011674, 0.5800034049530473, 0.5780327868559896, 0.576821154119385, 0.5760683320775143, 0.5755961166906616, 0.5752971410058376, 0.5751059306258156, 0.5749821640344028, 0.574900811771662, 0.5748462370451937, 0.5748086205103006, 0.5747817703716431, 0.5747617692519654, 0.5747461321107145, 0.5747332791507801, 0.5747222043337221, 0.5747122661172316, 0.5747030549439016, 0.5746943091232903, 0.574685861327524, 0.5746776045045591, 0.5746694701342218, 0.5746614143431591, 0.574653409031254, 0.5746454361966141, 0.5746374843044666, 0.5746295459627961, 0.5746216164338126, 0.5746136926806843, 0.574605772756699, 0.574597855413825, 0.5745899398519762, 0.5745820255581541, 0.5745741122034498, 0.5745661995769734, 0.5745582875435098, 0.5745503760163306, 0.5745424649398724, 0.5745345542784271, 0.5745266440091396, 0.5745187341173242, 0.5745108245935944, 0.5745029154318537, 0.5744950066282896, 0.5744870981803626, 0.5744791900864478, 0.5744712823455554, 0.5744633749569773, 0.5744554679202984, 0.5744475612352048, 0.5744396549015299, 0.5744317489191315, 0.5744238432879161, 0.5744159380078271, 0.5744080330788227, 0.5744001285008463, 0.5743922242738814, 0.5743843203978783, 0.5743764168728367, 0.5743685136987429, 0.5743606108755408, 0.5743527084032362, 0.5743448062817964, 0.5743369045112177, 0.5743290030914453, 0.5743211020225011, 0.5743132013043496, 0.5743053009369561, 0.5742974009203253, 0.5742895012544186, 0.5742816019392191, 0.5742737029747064, 0.5742658043608926, 0.5742579060977122, 0.5742500081851704, 0.5742421106232495, 0.5742342134119228, 0.5742263165511661, 0.5742184200409469, 0.5742105238813072, 0.5742026280721566, 0.5741947326135202, 0.5741868375053533, 0.5741789427476459, 0.5741710483403842, 0.5741631542835213, 0.5741552605770847, 0.574147367221, 0.5741394742153098, 0.5741315815599545, 0.5741236892549231, 0.5741157973001907, 0.5741079056957424]\n",
      "[0. 0. 0. 0. 0. 0. 0. 0. 0. 0. 0. 0. 0. 0. 0. 0. 0.]\n",
      "101\n",
      "73.69855723746453\n"
     ]
    }
   ],
   "source": [
    "cost,beta_train_final,it,acc = log_gradient(X_train,y_train,alpha =0.001,cut_off = 0.5 )\n",
    "print(cost)\n",
    "print(beta)\n",
    "print(it)\n",
    "print(acc)"
   ]
  },
  {
   "cell_type": "code",
   "execution_count": 321,
   "metadata": {},
   "outputs": [
    {
     "name": "stdout",
     "output_type": "stream",
     "text": [
      "74.02041942604856\n"
     ]
    }
   ],
   "source": [
    "##accuracy for train set\n",
    "X_one = np.ones((X_test.shape[0],1))\n",
    "X = np.concatenate((X_one,X_test),axis = 1)\n",
    "test_y_hat = logistic_func(X,beta_train_final)\n",
    "cut_off = 0.5\n",
    "for i in range(0,len(test_y_hat)):     # convert predicted probabilities to 0 or 1 based on cut off\n",
    "        if test_y_hat[i]>cut_off:\n",
    "            test_y_hat[i] = 1\n",
    "        else:\n",
    "            test_y_hat[i] = 0\n",
    "correct = np.sum(y_test == test_y_hat)\n",
    "acc = ((correct/len(test_y_hat))*100)\n",
    "print(acc)\n"
   ]
  },
  {
   "cell_type": "code",
   "execution_count": 282,
   "metadata": {
    "scrolled": false
   },
   "outputs": [
    {
     "name": "stdout",
     "output_type": "stream",
     "text": [
      "{0.015: 73.69855723746453, 0.01: 73.69855723746453, 0.005: 73.69855723746453, 0.003: 73.69855723746453, 0.001: 73.69855723746453, 0.0005: 73.69855723746453, 0.0001: 73.69855723746453}\n",
      "{0.015: 74.02041942604856, 0.01: 74.02041942604856, 0.005: 74.02041942604856, 0.003: 74.02041942604856, 0.001: 74.02041942604856, 0.0005: 74.02041942604856, 0.0001: 74.02041942604856}\n"
     ]
    }
   ],
   "source": [
    "#experiment 1 # Logistic Regression - for varying values of alpha\n",
    "expt_logit_train_acc = {}\n",
    "expt_logit_accuracy_matrix = {}\n",
    "alpha_logit1 = [0.015, 0.01, 0.005, 0.003, 0.001, 0.0005, 0.0001]\n",
    "for i in alpha_logit1:\n",
    "    cost,beta_train_final,it,acc = log_gradient(X_train,y_train,i)\n",
    "    X_one = np.ones((X_test.shape[0],1))\n",
    "    X = np.concatenate((X_one,X_test),axis = 1)\n",
    "    test_y_hat = logistic_func(X,beta_train_final)\n",
    "    cut_off = 0.5\n",
    "    for j in range(0,len(test_y_hat)):     # convert predicted probabilities to 0 or 1 based on cut off\n",
    "        if test_y_hat[j]>cut_off:\n",
    "            test_y_hat[j] = 1\n",
    "        else:\n",
    "            test_y_hat[j] = 0\n",
    "    correct = np.sum(y_test == test_y_hat)\n",
    "    acc_test = ((correct/len(test_y_hat))*100)\n",
    "    expt_logit_train_acc[i] = acc\n",
    "    expt_logit_accuracy_matrix[i] = acc_test\n",
    "    \n",
    "print(expt_logit_train_acc)\n",
    "print(expt_logit_accuracy_matrix)\n"
   ]
  },
  {
   "cell_type": "code",
   "execution_count": 291,
   "metadata": {},
   "outputs": [
    {
     "data": {
      "image/png": "[encoded data removed]",
      "text/plain": [
       "<Figure size 864x288 with 2 Axes>"
      ]
     },
     "metadata": {
      "needs_background": "light"
     },
     "output_type": "display_data"
    }
   ],
   "source": [
    "from matplotlib.ticker import FormatStrFormatter\n",
    "lists_logit1 = sorted(expt_logit_train_acc.items())\n",
    "x11_l, y11_l = zip(*lists_logit1)\n",
    "lists_logit2 = sorted(expt_logit_accuracy_matrix.items())\n",
    "x12_l, y12_l = zip(*lists_logit2)\n",
    "\n",
    "\n",
    "fig, ax = plt.subplots(nrows=1, ncols=2, figsize=(12,4))\n",
    "ax[0].plot(x11_l, y11_l, 'o-')\n",
    "ax[0].set(xlabel='alpha', ylabel='Accuracy',\n",
    "       title='Training Set')\n",
    "ax[0].grid()\n",
    "\n",
    "ax[1].plot(x12_l, y12_l, 'o-')\n",
    "ax[1].set(xlabel='alpha', ylabel='Accuracy',\n",
    "       title='Test Set')\n",
    "ax[1].grid()\n",
    "\n",
    "fig.suptitle('Logistic Regression: Accuracy as a function of alpha', fontsize=14)\n",
    "fig.subplots_adjust(top=0.85)\n",
    "#fig.savefig(\"expt1_logit.png\")\n",
    "plt.show()"
   ]
  },
  {
   "cell_type": "code",
   "execution_count": 309,
   "metadata": {},
   "outputs": [
    {
     "name": "stdout",
     "output_type": "stream",
     "text": [
      "{1: 73.69855723746453, 0.8: 73.69855723746453, 0.5: 73.69855723746453, 0.3: 73.69855723746453, 0.1: 26.301442762535476, 0.01: 26.301442762535476}\n",
      "{1: 74.02041942604856, 0.8: 74.02041942604856, 0.5: 74.02041942604856, 0.3: 74.02041942604856, 0.1: 25.979580573951434, 0.01: 25.979580573951434}\n"
     ]
    }
   ],
   "source": [
    "#experiment 2 - with different threshold levels\n",
    "cutt_off_list = [1,0.8,0.5,0.3,0.1,0.01]\n",
    "\n",
    "\n",
    "expt_logit_train_acc = {}\n",
    "expt_logit_accuracy_matrix = {}\n",
    "cut_off_list = [1,0.8,0.5,0.3,0.1,0.01]\n",
    "for i in cut_off_list:\n",
    "    cost,beta_train_final,it,acc = log_gradient(X_train,y_train,0.001,i)\n",
    "    X_one = np.ones((X_test.shape[0],1))\n",
    "    X = np.concatenate((X_one,X_test),axis = 1)\n",
    "    test_y_hat = logistic_func(X,beta_train_final)\n",
    "    for j in range(0,len(test_y_hat)):     # convert predicted probabilities to 0 or 1 based on cut off\n",
    "        if test_y_hat[j]>i:\n",
    "            test_y_hat[j] = 1\n",
    "        else:\n",
    "            test_y_hat[j] = 0\n",
    "    correct = np.sum(y_test == test_y_hat)\n",
    "    acc_test = ((correct/len(test_y_hat))*100)\n",
    "    expt_logit_train_acc[i] = acc\n",
    "    expt_logit_accuracy_matrix[i] = acc_test\n",
    "    \n",
    "print(expt_logit_train_acc)\n",
    "print(expt_logit_accuracy_matrix)"
   ]
  },
  {
   "cell_type": "code",
   "execution_count": 310,
   "metadata": {},
   "outputs": [
    {
     "data": {
      "image/png": "[encoded data removed]",
      "text/plain": [
       "<Figure size 864x288 with 2 Axes>"
      ]
     },
     "metadata": {
      "needs_background": "light"
     },
     "output_type": "display_data"
    }
   ],
   "source": [
    "from matplotlib.ticker import FormatStrFormatter\n",
    "lists_logit1 = sorted(expt_logit_train_acc.items())\n",
    "x11_l, y11_l = zip(*lists_logit1)\n",
    "lists_logit2 = sorted(expt_logit_accuracy_matrix.items())\n",
    "x12_l, y12_l = zip(*lists_logit2)\n",
    "\n",
    "\n",
    "fig, ax = plt.subplots(nrows=1, ncols=2, figsize=(12,4))\n",
    "ax[0].plot(x11_l, y11_l, 'o-')\n",
    "ax[0].set(xlabel='alpha', ylabel='Accuracy',\n",
    "       title='Training Set')\n",
    "ax[0].grid()\n",
    "\n",
    "ax[1].plot(x12_l, y12_l, 'o-')\n",
    "ax[1].set(xlabel='alpha', ylabel='Accuracy',\n",
    "       title='Test Set')\n",
    "ax[1].grid()\n",
    "\n",
    "fig.suptitle('Logistic Regression: Accuracy as a function of alpha', fontsize=14)\n",
    "fig.subplots_adjust(top=0.85)\n",
    "#fig.savefig(\"expt1_logit.png\")\n",
    "plt.show()"
   ]
  },
  {
   "cell_type": "code",
   "execution_count": 322,
   "metadata": {},
   "outputs": [],
   "source": [
    "## Experiment 3 selecting 8 random features\n",
    "df.head(4)\n",
    "df2 = df.iloc[:,:-1]\n",
    "df2.head(4)\n",
    "df2  =df2.sample(8, axis=1,random_state = 0)\n",
    "df2.head()\n",
    "df2 = pd.concat([df2, df['y']], axis=1)"
   ]
  },
  {
   "cell_type": "code",
   "execution_count": 323,
   "metadata": {},
   "outputs": [],
   "source": [
    "train2, test2 = train_test_split(df2,train_size=0.7, test_size=0.3, random_state=0)\n",
    "X_train_2 = train2.iloc[:,:-1]\n",
    "y_train_2 = train2.iloc[:,-1]\n",
    "X_test_2 = test2.iloc[:,:-1]\n",
    "y_test_2 = test2.iloc[:,-1] "
   ]
  },
  {
   "cell_type": "code",
   "execution_count": 324,
   "metadata": {},
   "outputs": [],
   "source": [
    "cost_train_1,beta_train_final_1,it_1,acc_1 = log_gradient(X_train,y_train,alpha =0.001,cut_off = 0.5 )\n",
    "cost_train_2,beta_train_final_2,it_2,acc_2 = log_gradient(X_train_2,y_train_2,alpha =0.001,cut_off = 0.5 )\n",
    "cost_train_1_val = cost_train_1[-1]\n",
    "cost_train_2_val = cost_train_2[-1]"
   ]
  },
  {
   "cell_type": "code",
   "execution_count": 325,
   "metadata": {},
   "outputs": [
    {
     "data": {
      "image/png": "[encoded data removed]",
      "text/plain": [
       "<Figure size 432x288 with 1 Axes>"
      ]
     },
     "metadata": {
      "needs_background": "light"
     },
     "output_type": "display_data"
    }
   ],
   "source": [
    "# plot Cost function\n",
    "plt.title(\"Cost function gradient descent linear regression for training set - reduced VS full model\")\n",
    "plt.xlabel(\"No. of iterations\")\n",
    "plt.ylabel(\"Cost\")\n",
    "plt.plot(cost_train_2,'b', label = 'reduced model cost')\n",
    "plt.plot(cost_train_1,'g', label = 'full model cost')\n",
    "plt.legend()\n",
    "plt.show()"
   ]
  },
  {
   "cell_type": "code",
   "execution_count": 326,
   "metadata": {},
   "outputs": [
    {
     "name": "stdout",
     "output_type": "stream",
     "text": [
      "74.02041942604856\n"
     ]
    }
   ],
   "source": [
    "#calculating the accuracy for reduced feature\n",
    "##accuracy for train set\n",
    "X_one = np.ones((X_test_2.shape[0],1))\n",
    "X = np.concatenate((X_one,X_test_2),axis = 1)\n",
    "test_y_hat = logistic_func(X,beta_train_final_2)\n",
    "cut_off = 0.5\n",
    "for i in range(0,len(test_y_hat)):     # convert predicted probabilities to 0 or 1 based on cut off\n",
    "        if test_y_hat[i]>cut_off:\n",
    "            test_y_hat[i] = 1\n",
    "        else:\n",
    "            test_y_hat[i] = 0\n",
    "correct = np.sum(y_test_2 == test_y_hat)\n",
    "acc_3 = ((correct/len(test_y_hat))*100)\n",
    "print(acc_3)"
   ]
  },
  {
   "cell_type": "code",
   "execution_count": 327,
   "metadata": {},
   "outputs": [
    {
     "data": {
      "text/plain": [
       "(0.0, 1.0, 0.0, 1.0)"
      ]
     },
     "execution_count": 327,
     "metadata": {},
     "output_type": "execute_result"
    },
    {
     "data": {
      "image/png": "[encoded data removed]",
      "text/plain": [
       "<Figure size 720x144 with 1 Axes>"
      ]
     },
     "metadata": {
      "needs_background": "light"
     },
     "output_type": "display_data"
    },
    {
     "data": {
      "image/png": "[encoded data removed]",
      "text/plain": [
       "<Figure size 720x144 with 1 Axes>"
      ]
     },
     "metadata": {
      "needs_background": "light"
     },
     "output_type": "display_data"
    }
   ],
   "source": [
    "fig3 = plt.figure(figsize=(10, 2))\n",
    "ax3 = plt.subplot(111)\n",
    "ax3.axis('off')\n",
    "\n",
    "colLabels3 = ['Logistic Regression','Cost (Training Set)', 'Cost (Test Set)']\n",
    "cellText3 = [['Original Set (14 features)',round(acc_1,4), round(acc,4)],\n",
    "            ['Random set (8 features)',round(acc_2,4), round(acc_3,4)]]\n",
    "colColours3 = ['#56b5fd','lightgray','lightgray']\n",
    "rowColours3 = [['lightgray','w','w'],['lightgray','w','w']]\n",
    "tab3 = ax3.table(cellText=cellText3, colLabels=colLabels3, bbox=[0, 0, 1, 1], cellLoc = 'center', cellColours=rowColours3, colColours=colColours3)\n",
    "tab3.auto_set_font_size(False)\n",
    "tab3.set_fontsize(14)\n",
    "\n",
    "fig33 = plt.figure(figsize=(10, 2))\n",
    "ax33 = plt.subplot(111)\n",
    "ax33.axis('off')"
   ]
  },
  {
   "cell_type": "code",
   "execution_count": 337,
   "metadata": {},
   "outputs": [
    {
     "data": {
      "text/html": [
       "<div>\n",
       "<style scoped>\n",
       "    .dataframe tbody tr th:only-of-type {\n",
       "        vertical-align: middle;\n",
       "    }\n",
       "\n",
       "    .dataframe tbody tr th {\n",
       "        vertical-align: top;\n",
       "    }\n",
       "\n",
       "    .dataframe thead th {\n",
       "        text-align: right;\n",
       "    }\n",
       "</style>\n",
       "<table border=\"1\" class=\"dataframe\">\n",
       "  <thead>\n",
       "    <tr style=\"text-align: right;\">\n",
       "      <th></th>\n",
       "      <th>MWG</th>\n",
       "      <th>MDIMA</th>\n",
       "      <th>NDIMB</th>\n",
       "      <th>KWI</th>\n",
       "      <th>STRM</th>\n",
       "      <th>STRN</th>\n",
       "      <th>SA</th>\n",
       "      <th>SB</th>\n",
       "      <th>y</th>\n",
       "    </tr>\n",
       "  </thead>\n",
       "  <tbody>\n",
       "    <tr>\n",
       "      <th>0</th>\n",
       "      <td>-16.503245</td>\n",
       "      <td>-8.292848</td>\n",
       "      <td>-8.292848</td>\n",
       "      <td>-2.375</td>\n",
       "      <td>-0.5</td>\n",
       "      <td>-0.5</td>\n",
       "      <td>-0.5</td>\n",
       "      <td>-0.5</td>\n",
       "      <td>0.0</td>\n",
       "    </tr>\n",
       "    <tr>\n",
       "      <th>1</th>\n",
       "      <td>-16.503245</td>\n",
       "      <td>-8.292848</td>\n",
       "      <td>-8.292848</td>\n",
       "      <td>-2.375</td>\n",
       "      <td>-0.5</td>\n",
       "      <td>-0.5</td>\n",
       "      <td>-0.5</td>\n",
       "      <td>0.5</td>\n",
       "      <td>0.0</td>\n",
       "    </tr>\n",
       "    <tr>\n",
       "      <th>2</th>\n",
       "      <td>-16.503245</td>\n",
       "      <td>-8.292848</td>\n",
       "      <td>-8.292848</td>\n",
       "      <td>-2.375</td>\n",
       "      <td>-0.5</td>\n",
       "      <td>-0.5</td>\n",
       "      <td>0.5</td>\n",
       "      <td>-0.5</td>\n",
       "      <td>0.0</td>\n",
       "    </tr>\n",
       "    <tr>\n",
       "      <th>3</th>\n",
       "      <td>-16.503245</td>\n",
       "      <td>-8.292848</td>\n",
       "      <td>-8.292848</td>\n",
       "      <td>-2.375</td>\n",
       "      <td>-0.5</td>\n",
       "      <td>-0.5</td>\n",
       "      <td>0.5</td>\n",
       "      <td>0.5</td>\n",
       "      <td>0.0</td>\n",
       "    </tr>\n",
       "  </tbody>\n",
       "</table>\n",
       "</div>"
      ],
      "text/plain": [
       "         MWG     MDIMA     NDIMB    KWI  STRM  STRN   SA   SB    y\n",
       "0 -16.503245 -8.292848 -8.292848 -2.375  -0.5  -0.5 -0.5 -0.5  0.0\n",
       "1 -16.503245 -8.292848 -8.292848 -2.375  -0.5  -0.5 -0.5  0.5  0.0\n",
       "2 -16.503245 -8.292848 -8.292848 -2.375  -0.5  -0.5  0.5 -0.5  0.0\n",
       "3 -16.503245 -8.292848 -8.292848 -2.375  -0.5  -0.5  0.5  0.5  0.0"
      ]
     },
     "execution_count": 337,
     "metadata": {},
     "output_type": "execute_result"
    }
   ],
   "source": [
    "#Experiment 4 \n",
    "df.head(4)\n",
    "df_corr = df.iloc[:,:-1]\n",
    "df_corr = df_corr.drop(df_corr[['VWM','VWN','NWG','MDIMC','KWG','NDIMC']], axis=1)\n",
    "#df_corr.head(4)\n",
    "df_corr = pd.concat([df_corr, df['y']], axis=1)\n",
    "df_corr.head(4)"
   ]
  },
  {
   "cell_type": "code",
   "execution_count": 338,
   "metadata": {},
   "outputs": [],
   "source": [
    "train3, test3 = train_test_split(df_corr,train_size=0.7, test_size=0.3, random_state=0)\n",
    "X_train_3 = train3.iloc[:,:-1]\n",
    "y_train_3 = train3.iloc[:,-1]\n",
    "X_test_3 = test3.iloc[:,:-1]\n",
    "y_test_3 = test3.iloc[:,-1] "
   ]
  },
  {
   "cell_type": "code",
   "execution_count": 339,
   "metadata": {},
   "outputs": [],
   "source": [
    "cost_train_3,beta_train_final_3,it_3,acc_4 = log_gradient(X_train_3,y_train_3,alpha =0.001,cut_off = 0.5 )\n"
   ]
  },
  {
   "cell_type": "code",
   "execution_count": 340,
   "metadata": {},
   "outputs": [
    {
     "data": {
      "image/png": "[encoded data removed]",
      "text/plain": [
       "<Figure size 432x288 with 1 Axes>"
      ]
     },
     "metadata": {
      "needs_background": "light"
     },
     "output_type": "display_data"
    }
   ],
   "source": [
    "# plot Cost function\n",
    "plt.title(\"Cost function gradient descent linear regression for training set - reduced VS full model\")\n",
    "plt.xlabel(\"No. of iterations\")\n",
    "plt.ylabel(\"Cost\")\n",
    "plt.plot(cost_train_3,'b', label = 'reduced model cost')\n",
    "plt.plot(cost_train_1,'g', label = 'full model cost')\n",
    "plt.plot(cost_train_2,'r', label = 'random_reduced model cost')\n",
    "plt.legend()\n",
    "plt.show()\n",
    "\n"
   ]
  },
  {
   "cell_type": "code",
   "execution_count": 341,
   "metadata": {},
   "outputs": [
    {
     "name": "stdout",
     "output_type": "stream",
     "text": [
      "74.02041942604856\n"
     ]
    }
   ],
   "source": [
    "#calculating the accuracy for reduced feature\n",
    "##accuracy for train set\n",
    "X_one = np.ones((X_test_3.shape[0],1))\n",
    "X = np.concatenate((X_one,X_test_3),axis = 1)\n",
    "test_y_hat = logistic_func(X,beta_train_final_3)\n",
    "cut_off = 0.5\n",
    "for i in range(0,len(test_y_hat)):     # convert predicted probabilities to 0 or 1 based on cut off\n",
    "        if test_y_hat[i]>cut_off:\n",
    "            test_y_hat[i] = 1\n",
    "        else:\n",
    "            test_y_hat[i] = 0\n",
    "correct = np.sum(y_test_2 == test_y_hat)\n",
    "acc_5 = ((correct/len(test_y_hat))*100)\n",
    "print(acc_5)"
   ]
  },
  {
   "cell_type": "code",
   "execution_count": 343,
   "metadata": {},
   "outputs": [
    {
     "data": {
      "text/plain": [
       "(0.0, 1.0, 0.0, 1.0)"
      ]
     },
     "execution_count": 343,
     "metadata": {},
     "output_type": "execute_result"
    },
    {
     "data": {
      "image/png": "[encoded data removed]",
      "text/plain": [
       "<Figure size 720x144 with 1 Axes>"
      ]
     },
     "metadata": {
      "needs_background": "light"
     },
     "output_type": "display_data"
    },
    {
     "data": {
      "image/png": "[encoded data removed]",
      "text/plain": [
       "<Figure size 720x144 with 1 Axes>"
      ]
     },
     "metadata": {
      "needs_background": "light"
     },
     "output_type": "display_data"
    }
   ],
   "source": [
    "fig3 = plt.figure(figsize=(10, 2))\n",
    "ax3 = plt.subplot(111)\n",
    "ax3.axis('off')\n",
    "\n",
    "colLabels3 = ['Logistic Regression','Cost (Training Set)', 'Cost (Test Set)']\n",
    "cellText3 = [['Original Set (14 features)',round(acc_1,4), round(acc,4)],\n",
    "            ['Random set (8 features)',round(acc_4,4), round(acc_5,4)]]\n",
    "colColours3 = ['#56b5fd','lightgray','lightgray']\n",
    "rowColours3 = [['lightgray','w','w'],['lightgray','w','w']]\n",
    "tab3 = ax3.table(cellText=cellText3, colLabels=colLabels3, bbox=[0, 0, 1, 1], cellLoc = 'center', cellColours=rowColours3, colColours=colColours3)\n",
    "tab3.auto_set_font_size(False)\n",
    "tab3.set_fontsize(14)\n",
    "\n",
    "fig33 = plt.figure(figsize=(10, 2))\n",
    "ax33 = plt.subplot(111)\n",
    "ax33.axis('off')"
   ]
  },
  {
   "cell_type": "code",
   "execution_count": null,
   "metadata": {},
   "outputs": [],
   "source": []
  }
 ],
 "metadata": {
  "kernelspec": {
   "display_name": "Python 3",
   "language": "python",
   "name": "python3"
  },
  "language_info": {
   "codemirror_mode": {
    "name": "ipython",
    "version": 3
   },
   "file_extension": ".py",
   "mimetype": "text/x-python",
   "name": "python",
   "nbconvert_exporter": "python",
   "pygments_lexer": "ipython3",
   "version": "3.7.4"
  }
 },
 "nbformat": 4,
 "nbformat_minor": 4
}
